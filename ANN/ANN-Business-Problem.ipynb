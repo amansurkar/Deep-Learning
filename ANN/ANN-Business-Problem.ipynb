{
 "cells": [
  {
   "cell_type": "code",
   "execution_count": 1,
   "metadata": {},
   "outputs": [],
   "source": [
    "import numpy as np\n",
    "import pandas as pd\n",
    "import matplotlib.pyplot as plt"
   ]
  },
  {
   "cell_type": "code",
   "execution_count": 2,
   "metadata": {},
   "outputs": [],
   "source": [
    "data=pd.read_csv('Churn_Modelling.csv')"
   ]
  },
  {
   "cell_type": "code",
   "execution_count": 3,
   "metadata": {
    "scrolled": true
   },
   "outputs": [
    {
     "data": {
      "text/html": [
       "<div>\n",
       "<style scoped>\n",
       "    .dataframe tbody tr th:only-of-type {\n",
       "        vertical-align: middle;\n",
       "    }\n",
       "\n",
       "    .dataframe tbody tr th {\n",
       "        vertical-align: top;\n",
       "    }\n",
       "\n",
       "    .dataframe thead th {\n",
       "        text-align: right;\n",
       "    }\n",
       "</style>\n",
       "<table border=\"1\" class=\"dataframe\">\n",
       "  <thead>\n",
       "    <tr style=\"text-align: right;\">\n",
       "      <th></th>\n",
       "      <th>RowNumber</th>\n",
       "      <th>CustomerId</th>\n",
       "      <th>Surname</th>\n",
       "      <th>CreditScore</th>\n",
       "      <th>Geography</th>\n",
       "      <th>Gender</th>\n",
       "      <th>Age</th>\n",
       "      <th>Tenure</th>\n",
       "      <th>Balance</th>\n",
       "      <th>NumOfProducts</th>\n",
       "      <th>HasCrCard</th>\n",
       "      <th>IsActiveMember</th>\n",
       "      <th>EstimatedSalary</th>\n",
       "      <th>Exited</th>\n",
       "    </tr>\n",
       "  </thead>\n",
       "  <tbody>\n",
       "    <tr>\n",
       "      <td>0</td>\n",
       "      <td>1</td>\n",
       "      <td>15634602</td>\n",
       "      <td>Hargrave</td>\n",
       "      <td>619</td>\n",
       "      <td>France</td>\n",
       "      <td>Female</td>\n",
       "      <td>42</td>\n",
       "      <td>2</td>\n",
       "      <td>0.00</td>\n",
       "      <td>1</td>\n",
       "      <td>1</td>\n",
       "      <td>1</td>\n",
       "      <td>101348.88</td>\n",
       "      <td>1</td>\n",
       "    </tr>\n",
       "    <tr>\n",
       "      <td>1</td>\n",
       "      <td>2</td>\n",
       "      <td>15647311</td>\n",
       "      <td>Hill</td>\n",
       "      <td>608</td>\n",
       "      <td>Spain</td>\n",
       "      <td>Female</td>\n",
       "      <td>41</td>\n",
       "      <td>1</td>\n",
       "      <td>83807.86</td>\n",
       "      <td>1</td>\n",
       "      <td>0</td>\n",
       "      <td>1</td>\n",
       "      <td>112542.58</td>\n",
       "      <td>0</td>\n",
       "    </tr>\n",
       "    <tr>\n",
       "      <td>2</td>\n",
       "      <td>3</td>\n",
       "      <td>15619304</td>\n",
       "      <td>Onio</td>\n",
       "      <td>502</td>\n",
       "      <td>France</td>\n",
       "      <td>Female</td>\n",
       "      <td>42</td>\n",
       "      <td>8</td>\n",
       "      <td>159660.80</td>\n",
       "      <td>3</td>\n",
       "      <td>1</td>\n",
       "      <td>0</td>\n",
       "      <td>113931.57</td>\n",
       "      <td>1</td>\n",
       "    </tr>\n",
       "  </tbody>\n",
       "</table>\n",
       "</div>"
      ],
      "text/plain": [
       "   RowNumber  CustomerId   Surname  CreditScore Geography  Gender  Age  \\\n",
       "0          1    15634602  Hargrave          619    France  Female   42   \n",
       "1          2    15647311      Hill          608     Spain  Female   41   \n",
       "2          3    15619304      Onio          502    France  Female   42   \n",
       "\n",
       "   Tenure    Balance  NumOfProducts  HasCrCard  IsActiveMember  \\\n",
       "0       2       0.00              1          1               1   \n",
       "1       1   83807.86              1          0               1   \n",
       "2       8  159660.80              3          1               0   \n",
       "\n",
       "   EstimatedSalary  Exited  \n",
       "0        101348.88       1  \n",
       "1        112542.58       0  \n",
       "2        113931.57       1  "
      ]
     },
     "execution_count": 3,
     "metadata": {},
     "output_type": "execute_result"
    }
   ],
   "source": [
    "data.head(3)"
   ]
  },
  {
   "cell_type": "code",
   "execution_count": 4,
   "metadata": {},
   "outputs": [],
   "source": [
    "X=data.iloc[:, 3:13 ].values"
   ]
  },
  {
   "cell_type": "code",
   "execution_count": 5,
   "metadata": {
    "scrolled": true
   },
   "outputs": [
    {
     "data": {
      "text/plain": [
       "array([[619, 'France', 'Female', ..., 1, 1, 101348.88],\n",
       "       [608, 'Spain', 'Female', ..., 0, 1, 112542.58],\n",
       "       [502, 'France', 'Female', ..., 1, 0, 113931.57],\n",
       "       ...,\n",
       "       [709, 'France', 'Female', ..., 0, 1, 42085.58],\n",
       "       [772, 'Germany', 'Male', ..., 1, 0, 92888.52],\n",
       "       [792, 'France', 'Female', ..., 1, 0, 38190.78]], dtype=object)"
      ]
     },
     "execution_count": 5,
     "metadata": {},
     "output_type": "execute_result"
    }
   ],
   "source": [
    "X"
   ]
  },
  {
   "cell_type": "code",
   "execution_count": 6,
   "metadata": {},
   "outputs": [],
   "source": [
    "y=data.iloc[:, 13].values"
   ]
  },
  {
   "cell_type": "code",
   "execution_count": 7,
   "metadata": {
    "scrolled": true
   },
   "outputs": [
    {
     "data": {
      "text/plain": [
       "array([1, 0, 1, ..., 1, 1, 0], dtype=int64)"
      ]
     },
     "execution_count": 7,
     "metadata": {},
     "output_type": "execute_result"
    }
   ],
   "source": [
    "y"
   ]
  },
  {
   "cell_type": "code",
   "execution_count": 8,
   "metadata": {},
   "outputs": [],
   "source": [
    "from sklearn.preprocessing import LabelEncoder, OneHotEncoder"
   ]
  },
  {
   "cell_type": "code",
   "execution_count": 9,
   "metadata": {},
   "outputs": [],
   "source": [
    "lencoder_1= LabelEncoder()"
   ]
  },
  {
   "cell_type": "code",
   "execution_count": 10,
   "metadata": {},
   "outputs": [],
   "source": [
    "X[:, 1]=lencoder_1.fit_transform(X[:, 1])"
   ]
  },
  {
   "cell_type": "code",
   "execution_count": 11,
   "metadata": {},
   "outputs": [
    {
     "data": {
      "text/plain": [
       "array([[619, 0, 'Female', ..., 1, 1, 101348.88],\n",
       "       [608, 2, 'Female', ..., 0, 1, 112542.58],\n",
       "       [502, 0, 'Female', ..., 1, 0, 113931.57],\n",
       "       ...,\n",
       "       [709, 0, 'Female', ..., 0, 1, 42085.58],\n",
       "       [772, 1, 'Male', ..., 1, 0, 92888.52],\n",
       "       [792, 0, 'Female', ..., 1, 0, 38190.78]], dtype=object)"
      ]
     },
     "execution_count": 11,
     "metadata": {},
     "output_type": "execute_result"
    }
   ],
   "source": [
    "X"
   ]
  },
  {
   "cell_type": "code",
   "execution_count": 12,
   "metadata": {},
   "outputs": [],
   "source": [
    "lencoder_2=LabelEncoder()"
   ]
  },
  {
   "cell_type": "code",
   "execution_count": 13,
   "metadata": {},
   "outputs": [],
   "source": [
    "X[:, 2]=lencoder_2.fit_transform(X[:,2])"
   ]
  },
  {
   "cell_type": "code",
   "execution_count": 14,
   "metadata": {},
   "outputs": [
    {
     "data": {
      "text/plain": [
       "array([[619, 0, 0, ..., 1, 1, 101348.88],\n",
       "       [608, 2, 0, ..., 0, 1, 112542.58],\n",
       "       [502, 0, 0, ..., 1, 0, 113931.57],\n",
       "       ...,\n",
       "       [709, 0, 0, ..., 0, 1, 42085.58],\n",
       "       [772, 1, 1, ..., 1, 0, 92888.52],\n",
       "       [792, 0, 0, ..., 1, 0, 38190.78]], dtype=object)"
      ]
     },
     "execution_count": 14,
     "metadata": {},
     "output_type": "execute_result"
    }
   ],
   "source": [
    "X"
   ]
  },
  {
   "cell_type": "code",
   "execution_count": 15,
   "metadata": {},
   "outputs": [],
   "source": [
    "onehotencoder=OneHotEncoder(categorical_features= [1])"
   ]
  },
  {
   "cell_type": "code",
   "execution_count": 16,
   "metadata": {},
   "outputs": [
    {
     "name": "stderr",
     "output_type": "stream",
     "text": [
      "C:\\Users\\Aman Surkar\\Anaconda3\\lib\\site-packages\\sklearn\\preprocessing\\_encoders.py:415: FutureWarning: The handling of integer data will change in version 0.22. Currently, the categories are determined based on the range [0, max(values)], while in the future they will be determined based on the unique values.\n",
      "If you want the future behaviour and silence this warning, you can specify \"categories='auto'\".\n",
      "In case you used a LabelEncoder before this OneHotEncoder to convert the categories to integers, then you can now use the OneHotEncoder directly.\n",
      "  warnings.warn(msg, FutureWarning)\n",
      "C:\\Users\\Aman Surkar\\Anaconda3\\lib\\site-packages\\sklearn\\preprocessing\\_encoders.py:451: DeprecationWarning: The 'categorical_features' keyword is deprecated in version 0.20 and will be removed in 0.22. You can use the ColumnTransformer instead.\n",
      "  \"use the ColumnTransformer instead.\", DeprecationWarning)\n"
     ]
    }
   ],
   "source": [
    "X=onehotencoder.fit_transform(X).toarray()"
   ]
  },
  {
   "cell_type": "code",
   "execution_count": 17,
   "metadata": {},
   "outputs": [],
   "source": [
    "X=X[:,1:]"
   ]
  },
  {
   "cell_type": "code",
   "execution_count": 18,
   "metadata": {},
   "outputs": [
    {
     "data": {
      "text/plain": [
       "array([[0.0000000e+00, 0.0000000e+00, 6.1900000e+02, ..., 1.0000000e+00,\n",
       "        1.0000000e+00, 1.0134888e+05],\n",
       "       [0.0000000e+00, 1.0000000e+00, 6.0800000e+02, ..., 0.0000000e+00,\n",
       "        1.0000000e+00, 1.1254258e+05],\n",
       "       [0.0000000e+00, 0.0000000e+00, 5.0200000e+02, ..., 1.0000000e+00,\n",
       "        0.0000000e+00, 1.1393157e+05],\n",
       "       ...,\n",
       "       [0.0000000e+00, 0.0000000e+00, 7.0900000e+02, ..., 0.0000000e+00,\n",
       "        1.0000000e+00, 4.2085580e+04],\n",
       "       [1.0000000e+00, 0.0000000e+00, 7.7200000e+02, ..., 1.0000000e+00,\n",
       "        0.0000000e+00, 9.2888520e+04],\n",
       "       [0.0000000e+00, 0.0000000e+00, 7.9200000e+02, ..., 1.0000000e+00,\n",
       "        0.0000000e+00, 3.8190780e+04]])"
      ]
     },
     "execution_count": 18,
     "metadata": {},
     "output_type": "execute_result"
    }
   ],
   "source": [
    "X"
   ]
  },
  {
   "cell_type": "code",
   "execution_count": 19,
   "metadata": {},
   "outputs": [
    {
     "data": {
      "text/plain": [
       "(10000, 11)"
      ]
     },
     "execution_count": 19,
     "metadata": {},
     "output_type": "execute_result"
    }
   ],
   "source": [
    "X.shape"
   ]
  },
  {
   "cell_type": "code",
   "execution_count": 20,
   "metadata": {},
   "outputs": [],
   "source": [
    "from sklearn.model_selection import train_test_split"
   ]
  },
  {
   "cell_type": "code",
   "execution_count": 21,
   "metadata": {},
   "outputs": [],
   "source": [
    "X_train, X_test, y_train, y_test = train_test_split(X,y, test_size=0.2, random_state=0)"
   ]
  },
  {
   "cell_type": "code",
   "execution_count": 22,
   "metadata": {},
   "outputs": [],
   "source": [
    "from sklearn.preprocessing import StandardScaler"
   ]
  },
  {
   "cell_type": "code",
   "execution_count": 23,
   "metadata": {},
   "outputs": [],
   "source": [
    "scaler=StandardScaler()"
   ]
  },
  {
   "cell_type": "code",
   "execution_count": 24,
   "metadata": {},
   "outputs": [],
   "source": [
    "X_train=scaler.fit_transform(X_train)"
   ]
  },
  {
   "cell_type": "code",
   "execution_count": 25,
   "metadata": {},
   "outputs": [],
   "source": [
    "X_test=scaler.fit_transform(X_test)"
   ]
  },
  {
   "cell_type": "code",
   "execution_count": 26,
   "metadata": {},
   "outputs": [
    {
     "name": "stderr",
     "output_type": "stream",
     "text": [
      "Using TensorFlow backend.\n"
     ]
    }
   ],
   "source": [
    "import keras"
   ]
  },
  {
   "cell_type": "code",
   "execution_count": 27,
   "metadata": {},
   "outputs": [],
   "source": [
    "from keras.models import Sequential"
   ]
  },
  {
   "cell_type": "code",
   "execution_count": 28,
   "metadata": {},
   "outputs": [],
   "source": [
    "from keras.layers import Dense"
   ]
  },
  {
   "cell_type": "code",
   "execution_count": 29,
   "metadata": {},
   "outputs": [],
   "source": [
    "classifier=Sequential()"
   ]
  },
  {
   "cell_type": "code",
   "execution_count": 30,
   "metadata": {},
   "outputs": [
    {
     "name": "stderr",
     "output_type": "stream",
     "text": [
      "C:\\Users\\Aman Surkar\\Anaconda3\\lib\\site-packages\\ipykernel_launcher.py:1: UserWarning: Update your `Dense` call to the Keras 2 API: `Dense(activation=\"relu\", input_dim=11, units=6, kernel_initializer=\"uniform\")`\n",
      "  \"\"\"Entry point for launching an IPython kernel.\n"
     ]
    }
   ],
   "source": [
    "classifier.add(Dense(output_dim=6, init= 'uniform', activation='relu', input_dim=11))"
   ]
  },
  {
   "cell_type": "code",
   "execution_count": 31,
   "metadata": {},
   "outputs": [
    {
     "name": "stderr",
     "output_type": "stream",
     "text": [
      "C:\\Users\\Aman Surkar\\Anaconda3\\lib\\site-packages\\ipykernel_launcher.py:1: UserWarning: Update your `Dense` call to the Keras 2 API: `Dense(activation=\"relu\", units=6, kernel_initializer=\"uniform\")`\n",
      "  \"\"\"Entry point for launching an IPython kernel.\n"
     ]
    }
   ],
   "source": [
    "classifier.add(Dense(output_dim=6, init= 'uniform', activation='relu'))"
   ]
  },
  {
   "cell_type": "code",
   "execution_count": 32,
   "metadata": {},
   "outputs": [
    {
     "name": "stderr",
     "output_type": "stream",
     "text": [
      "C:\\Users\\Aman Surkar\\Anaconda3\\lib\\site-packages\\ipykernel_launcher.py:1: UserWarning: Update your `Dense` call to the Keras 2 API: `Dense(activation=\"sigmoid\", units=1, kernel_initializer=\"uniform\")`\n",
      "  \"\"\"Entry point for launching an IPython kernel.\n"
     ]
    }
   ],
   "source": [
    "classifier.add(Dense(output_dim=1, init= 'uniform', activation='sigmoid'))"
   ]
  },
  {
   "cell_type": "code",
   "execution_count": 33,
   "metadata": {},
   "outputs": [],
   "source": [
    "classifier.compile(optimizer='adam', loss='binary_crossentropy', metrics=['accuracy'])"
   ]
  },
  {
   "cell_type": "code",
   "execution_count": 34,
   "metadata": {},
   "outputs": [
    {
     "name": "stdout",
     "output_type": "stream",
     "text": [
      "Epoch 1/100\n",
      "8000/8000 [==============================] - 2s 302us/step - loss: 0.5035 - accuracy: 0.7954\n",
      "Epoch 2/100\n",
      "8000/8000 [==============================] - 2s 204us/step - loss: 0.4302 - accuracy: 0.7960\n",
      "Epoch 3/100\n",
      "8000/8000 [==============================] - 2s 202us/step - loss: 0.4234 - accuracy: 0.8010\n",
      "Epoch 4/100\n",
      "8000/8000 [==============================] - 2s 200us/step - loss: 0.4171 - accuracy: 0.8264\n",
      "Epoch 5/100\n",
      "8000/8000 [==============================] - 2s 201us/step - loss: 0.4122 - accuracy: 0.8322\n",
      "Epoch 6/100\n",
      "8000/8000 [==============================] - 2s 205us/step - loss: 0.4085 - accuracy: 0.8322\n",
      "Epoch 7/100\n",
      "8000/8000 [==============================] - 2s 202us/step - loss: 0.4058 - accuracy: 0.8347\n",
      "Epoch 8/100\n",
      "8000/8000 [==============================] - 2s 207us/step - loss: 0.4040 - accuracy: 0.8322\n",
      "Epoch 9/100\n",
      "8000/8000 [==============================] - 2s 204us/step - loss: 0.4022 - accuracy: 0.8342\n",
      "Epoch 10/100\n",
      "8000/8000 [==============================] - 2s 205us/step - loss: 0.4009 - accuracy: 0.8345\n",
      "Epoch 11/100\n",
      "8000/8000 [==============================] - 2s 208us/step - loss: 0.4000 - accuracy: 0.8339\n",
      "Epoch 12/100\n",
      "8000/8000 [==============================] - 2s 230us/step - loss: 0.3988 - accuracy: 0.8346\n",
      "Epoch 13/100\n",
      "8000/8000 [==============================] - 2s 232us/step - loss: 0.3986 - accuracy: 0.8354\n",
      "Epoch 14/100\n",
      "8000/8000 [==============================] - 2s 227us/step - loss: 0.3983 - accuracy: 0.8363\n",
      "Epoch 15/100\n",
      "8000/8000 [==============================] - 2s 204us/step - loss: 0.3974 - accuracy: 0.8331\n",
      "Epoch 16/100\n",
      "8000/8000 [==============================] - 2s 213us/step - loss: 0.3971 - accuracy: 0.8354\n",
      "Epoch 17/100\n",
      "8000/8000 [==============================] - 2s 212us/step - loss: 0.3966 - accuracy: 0.8347\n",
      "Epoch 18/100\n",
      "8000/8000 [==============================] - 2s 215us/step - loss: 0.3962 - accuracy: 0.8354\n",
      "Epoch 19/100\n",
      "8000/8000 [==============================] - 2s 213us/step - loss: 0.3956 - accuracy: 0.8354\n",
      "Epoch 20/100\n",
      "8000/8000 [==============================] - 2s 220us/step - loss: 0.3953 - accuracy: 0.8360\n",
      "Epoch 21/100\n",
      "8000/8000 [==============================] - 2s 211us/step - loss: 0.3947 - accuracy: 0.8366\n",
      "Epoch 22/100\n",
      "8000/8000 [==============================] - 2s 230us/step - loss: 0.3944 - accuracy: 0.8382\n",
      "Epoch 23/100\n",
      "8000/8000 [==============================] - ETA: 0s - loss: 0.3924 - accuracy: 0.83 - 2s 200us/step - loss: 0.3928 - accuracy: 0.8385\n",
      "Epoch 24/100\n",
      "8000/8000 [==============================] - 2s 251us/step - loss: 0.3920 - accuracy: 0.8389\n",
      "Epoch 25/100\n",
      "8000/8000 [==============================] - 2s 214us/step - loss: 0.3902 - accuracy: 0.8386\n",
      "Epoch 26/100\n",
      "8000/8000 [==============================] - 2s 210us/step - loss: 0.3890 - accuracy: 0.8380\n",
      "Epoch 27/100\n",
      "8000/8000 [==============================] - 1s 180us/step - loss: 0.3871 - accuracy: 0.8384\n",
      "Epoch 28/100\n",
      "8000/8000 [==============================] - 1s 187us/step - loss: 0.3849 - accuracy: 0.8380\n",
      "Epoch 29/100\n",
      "8000/8000 [==============================] - 1s 183us/step - loss: 0.3818 - accuracy: 0.8363\n",
      "Epoch 30/100\n",
      "8000/8000 [==============================] - 2s 201us/step - loss: 0.3787 - accuracy: 0.8375\n",
      "Epoch 31/100\n",
      "8000/8000 [==============================] - 1s 183us/step - loss: 0.3742 - accuracy: 0.8381\n",
      "Epoch 32/100\n",
      "8000/8000 [==============================] - 2s 194us/step - loss: 0.3700 - accuracy: 0.8428\n",
      "Epoch 33/100\n",
      "8000/8000 [==============================] - 2s 234us/step - loss: 0.3640 - accuracy: 0.8497\n",
      "Epoch 34/100\n",
      "8000/8000 [==============================] - 2s 235us/step - loss: 0.3556 - accuracy: 0.8554\n",
      "Epoch 35/100\n",
      "8000/8000 [==============================] - 2s 191us/step - loss: 0.3487 - accuracy: 0.8604\n",
      "Epoch 36/100\n",
      "8000/8000 [==============================] - 2s 199us/step - loss: 0.3446 - accuracy: 0.8608\n",
      "Epoch 37/100\n",
      "8000/8000 [==============================] - 2s 202us/step - loss: 0.3436 - accuracy: 0.8609\n",
      "Epoch 38/100\n",
      "8000/8000 [==============================] - 2s 193us/step - loss: 0.3423 - accuracy: 0.8593\n",
      "Epoch 39/100\n",
      "8000/8000 [==============================] - 1s 176us/step - loss: 0.3423 - accuracy: 0.8597\n",
      "Epoch 40/100\n",
      "8000/8000 [==============================] - 2s 189us/step - loss: 0.3415 - accuracy: 0.8633\n",
      "Epoch 41/100\n",
      "8000/8000 [==============================] - 2s 207us/step - loss: 0.3417 - accuracy: 0.8616\n",
      "Epoch 42/100\n",
      "8000/8000 [==============================] - 2s 242us/step - loss: 0.3402 - accuracy: 0.8626\n",
      "Epoch 43/100\n",
      "8000/8000 [==============================] - 2s 229us/step - loss: 0.3409 - accuracy: 0.8612\n",
      "Epoch 44/100\n",
      "8000/8000 [==============================] - 2s 200us/step - loss: 0.3401 - accuracy: 0.8626\n",
      "Epoch 45/100\n",
      "8000/8000 [==============================] - 2s 237us/step - loss: 0.3402 - accuracy: 0.8629\n",
      "Epoch 46/100\n",
      "8000/8000 [==============================] - 2s 249us/step - loss: 0.3389 - accuracy: 0.8611\n",
      "Epoch 47/100\n",
      "8000/8000 [==============================] - 2s 255us/step - loss: 0.3396 - accuracy: 0.8625\n",
      "Epoch 48/100\n",
      "8000/8000 [==============================] - 2s 237us/step - loss: 0.3395 - accuracy: 0.8622\n",
      "Epoch 49/100\n",
      "8000/8000 [==============================] - 2s 253us/step - loss: 0.3383 - accuracy: 0.8624\n",
      "Epoch 50/100\n",
      "8000/8000 [==============================] - 2s 221us/step - loss: 0.3384 - accuracy: 0.8626\n",
      "Epoch 51/100\n",
      "8000/8000 [==============================] - 2s 221us/step - loss: 0.3386 - accuracy: 0.8620\n",
      "Epoch 52/100\n",
      "8000/8000 [==============================] - 2s 222us/step - loss: 0.3382 - accuracy: 0.8609\n",
      "Epoch 53/100\n",
      "8000/8000 [==============================] - 2s 208us/step - loss: 0.3384 - accuracy: 0.8605\n",
      "Epoch 54/100\n",
      "8000/8000 [==============================] - 1s 185us/step - loss: 0.3377 - accuracy: 0.8614\n",
      "Epoch 55/100\n",
      "8000/8000 [==============================] - 2s 221us/step - loss: 0.3378 - accuracy: 0.8625\n",
      "Epoch 56/100\n",
      "8000/8000 [==============================] - 2s 198us/step - loss: 0.3373 - accuracy: 0.8620\n",
      "Epoch 57/100\n",
      "8000/8000 [==============================] - 2s 238us/step - loss: 0.3377 - accuracy: 0.8635\n",
      "Epoch 58/100\n",
      "8000/8000 [==============================] - 2s 237us/step - loss: 0.3374 - accuracy: 0.8616\n",
      "Epoch 59/100\n",
      "8000/8000 [==============================] - 2s 276us/step - loss: 0.3377 - accuracy: 0.8629\n",
      "Epoch 60/100\n",
      "8000/8000 [==============================] - 2s 271us/step - loss: 0.3368 - accuracy: 0.8605\n",
      "Epoch 61/100\n",
      "8000/8000 [==============================] - 2s 268us/step - loss: 0.3369 - accuracy: 0.8621\n",
      "Epoch 62/100\n",
      "8000/8000 [==============================] - 2s 215us/step - loss: 0.3370 - accuracy: 0.8606\n",
      "Epoch 63/100\n",
      "8000/8000 [==============================] - 1s 182us/step - loss: 0.3368 - accuracy: 0.8626\n",
      "Epoch 64/100\n",
      "8000/8000 [==============================] - 2s 292us/step - loss: 0.3368 - accuracy: 0.8608\n",
      "Epoch 65/100\n",
      "8000/8000 [==============================] - 2s 236us/step - loss: 0.3360 - accuracy: 0.8619\n",
      "Epoch 66/100\n",
      "8000/8000 [==============================] - ETA: 0s - loss: 0.3359 - accuracy: 0.86 - 2s 261us/step - loss: 0.3368 - accuracy: 0.8619\n",
      "Epoch 67/100\n",
      "8000/8000 [==============================] - 2s 246us/step - loss: 0.3368 - accuracy: 0.8614\n",
      "Epoch 68/100\n",
      "8000/8000 [==============================] - 2s 212us/step - loss: 0.3360 - accuracy: 0.8614\n",
      "Epoch 69/100\n",
      "8000/8000 [==============================] - 2s 210us/step - loss: 0.3359 - accuracy: 0.8612\n",
      "Epoch 70/100\n",
      "8000/8000 [==============================] - 2s 204us/step - loss: 0.3362 - accuracy: 0.8621\n",
      "Epoch 71/100\n",
      "8000/8000 [==============================] - 2s 189us/step - loss: 0.3360 - accuracy: 0.8624\n",
      "Epoch 72/100\n",
      "8000/8000 [==============================] - 2s 219us/step - loss: 0.3361 - accuracy: 0.8633\n",
      "Epoch 73/100\n",
      "8000/8000 [==============================] - 2s 250us/step - loss: 0.3364 - accuracy: 0.8609\n",
      "Epoch 74/100\n",
      "8000/8000 [==============================] - 2s 288us/step - loss: 0.3356 - accuracy: 0.8612\n",
      "Epoch 75/100\n",
      "8000/8000 [==============================] - 2s 220us/step - loss: 0.3358 - accuracy: 0.8616\n",
      "Epoch 76/100\n",
      "8000/8000 [==============================] - 2s 208us/step - loss: 0.3362 - accuracy: 0.8604\n",
      "Epoch 77/100\n"
     ]
    },
    {
     "name": "stdout",
     "output_type": "stream",
     "text": [
      "8000/8000 [==============================] - 2s 206us/step - loss: 0.3356 - accuracy: 0.8634\n",
      "Epoch 78/100\n",
      "8000/8000 [==============================] - 2s 194us/step - loss: 0.3359 - accuracy: 0.8630\n",
      "Epoch 79/100\n",
      "8000/8000 [==============================] - 2s 287us/step - loss: 0.3356 - accuracy: 0.8630\n",
      "Epoch 80/100\n",
      "8000/8000 [==============================] - 2s 231us/step - loss: 0.3358 - accuracy: 0.8593\n",
      "Epoch 81/100\n",
      "8000/8000 [==============================] - 2s 210us/step - loss: 0.3358 - accuracy: 0.8625\n",
      "Epoch 82/100\n",
      "8000/8000 [==============================] - 2s 203us/step - loss: 0.3345 - accuracy: 0.8629\n",
      "Epoch 83/100\n",
      "8000/8000 [==============================] - 2s 252us/step - loss: 0.3351 - accuracy: 0.8629\n",
      "Epoch 84/100\n",
      "8000/8000 [==============================] - 2s 225us/step - loss: 0.3349 - accuracy: 0.8630\n",
      "Epoch 85/100\n",
      "8000/8000 [==============================] - 2s 210us/step - loss: 0.3349 - accuracy: 0.8629\n",
      "Epoch 86/100\n",
      "8000/8000 [==============================] - 2s 239us/step - loss: 0.3347 - accuracy: 0.8609\n",
      "Epoch 87/100\n",
      "8000/8000 [==============================] - 2s 223us/step - loss: 0.3346 - accuracy: 0.8637\n",
      "Epoch 88/100\n",
      "8000/8000 [==============================] - 2s 279us/step - loss: 0.3347 - accuracy: 0.8625\n",
      "Epoch 89/100\n",
      "8000/8000 [==============================] - 2s 211us/step - loss: 0.3339 - accuracy: 0.8629\n",
      "Epoch 90/100\n",
      "8000/8000 [==============================] - 2s 271us/step - loss: 0.3340 - accuracy: 0.8646\n",
      "Epoch 91/100\n",
      "8000/8000 [==============================] - 2s 201us/step - loss: 0.3343 - accuracy: 0.8620\n",
      "Epoch 92/100\n",
      "8000/8000 [==============================] - 2s 193us/step - loss: 0.3343 - accuracy: 0.8615\n",
      "Epoch 93/100\n",
      "8000/8000 [==============================] - 2s 209us/step - loss: 0.3337 - accuracy: 0.8626\n",
      "Epoch 94/100\n",
      "8000/8000 [==============================] - 2s 271us/step - loss: 0.3340 - accuracy: 0.8645\n",
      "Epoch 95/100\n",
      "8000/8000 [==============================] - 2s 211us/step - loss: 0.3336 - accuracy: 0.8636\n",
      "Epoch 96/100\n",
      "8000/8000 [==============================] - 1s 181us/step - loss: 0.3334 - accuracy: 0.8639\n",
      "Epoch 97/100\n",
      "8000/8000 [==============================] - 2s 266us/step - loss: 0.3336 - accuracy: 0.8634\n",
      "Epoch 98/100\n",
      "8000/8000 [==============================] - 2s 250us/step - loss: 0.3334 - accuracy: 0.8626\n",
      "Epoch 99/100\n",
      "8000/8000 [==============================] - 2s 193us/step - loss: 0.3333 - accuracy: 0.8649\n",
      "Epoch 100/100\n",
      "8000/8000 [==============================] - 2s 249us/step - loss: 0.3328 - accuracy: 0.8631\n"
     ]
    },
    {
     "data": {
      "text/plain": [
       "<keras.callbacks.callbacks.History at 0xfc5725cbc8>"
      ]
     },
     "execution_count": 34,
     "metadata": {},
     "output_type": "execute_result"
    }
   ],
   "source": [
    "classifier.fit(X_train, y_train, batch_size=10, epochs=100)"
   ]
  },
  {
   "cell_type": "code",
   "execution_count": 35,
   "metadata": {},
   "outputs": [],
   "source": [
    "y_pred=classifier.predict(X_test)"
   ]
  },
  {
   "cell_type": "code",
   "execution_count": 36,
   "metadata": {},
   "outputs": [
    {
     "data": {
      "text/plain": [
       "array([[0.29504147],\n",
       "       [0.42085266],\n",
       "       [0.14048211],\n",
       "       ...,\n",
       "       [0.22154382],\n",
       "       [0.24931328],\n",
       "       [0.14758104]], dtype=float32)"
      ]
     },
     "execution_count": 36,
     "metadata": {},
     "output_type": "execute_result"
    }
   ],
   "source": [
    "y_pred"
   ]
  },
  {
   "cell_type": "code",
   "execution_count": 37,
   "metadata": {},
   "outputs": [],
   "source": [
    "y_pred= (y_pred>0.5)"
   ]
  },
  {
   "cell_type": "code",
   "execution_count": 38,
   "metadata": {},
   "outputs": [
    {
     "data": {
      "text/plain": [
       "array([[False],\n",
       "       [False],\n",
       "       [False],\n",
       "       ...,\n",
       "       [False],\n",
       "       [False],\n",
       "       [False]])"
      ]
     },
     "execution_count": 38,
     "metadata": {},
     "output_type": "execute_result"
    }
   ],
   "source": [
    "y_pred"
   ]
  },
  {
   "cell_type": "code",
   "execution_count": 39,
   "metadata": {},
   "outputs": [],
   "source": [
    "from sklearn.metrics import confusion_matrix"
   ]
  },
  {
   "cell_type": "code",
   "execution_count": 40,
   "metadata": {},
   "outputs": [],
   "source": [
    "conf=confusion_matrix(y_test, y_pred)"
   ]
  },
  {
   "cell_type": "code",
   "execution_count": 41,
   "metadata": {},
   "outputs": [
    {
     "data": {
      "text/plain": [
       "array([[1492,  103],\n",
       "       [ 180,  225]], dtype=int64)"
      ]
     },
     "execution_count": 41,
     "metadata": {},
     "output_type": "execute_result"
    }
   ],
   "source": [
    "conf"
   ]
  }
 ],
 "metadata": {
  "kernelspec": {
   "display_name": "Python 3",
   "language": "python",
   "name": "python3"
  },
  "language_info": {
   "codemirror_mode": {
    "name": "ipython",
    "version": 3
   },
   "file_extension": ".py",
   "mimetype": "text/x-python",
   "name": "python",
   "nbconvert_exporter": "python",
   "pygments_lexer": "ipython3",
   "version": "3.7.4"
  }
 },
 "nbformat": 4,
 "nbformat_minor": 2
}
