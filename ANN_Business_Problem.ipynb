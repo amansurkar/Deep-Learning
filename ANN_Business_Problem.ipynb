{
  "nbformat": 4,
  "nbformat_minor": 0,
  "metadata": {
    "colab": {
      "name": "ANN-Business-Problem.ipynb",
      "provenance": [],
      "collapsed_sections": [],
      "authorship_tag": "ABX9TyMi7CCzaINRbsxFWVKdjG1f",
      "include_colab_link": true
    },
    "kernelspec": {
      "name": "python3",
      "display_name": "Python 3"
    }
  },
  "cells": [
    {
      "cell_type": "markdown",
      "metadata": {
        "id": "view-in-github",
        "colab_type": "text"
      },
      "source": [
        "<a href=\"https://colab.research.google.com/github/amansurkar/Deep-Learning/blob/master/ANN_Business_Problem.ipynb\" target=\"_parent\"><img src=\"https://colab.research.google.com/assets/colab-badge.svg\" alt=\"Open In Colab\"/></a>"
      ]
    },
    {
      "cell_type": "code",
      "metadata": {
        "id": "YGVI-UgMtZHr",
        "colab_type": "code",
        "colab": {}
      },
      "source": [
        "import numpy as np\n",
        "import pandas as pd"
      ],
      "execution_count": 0,
      "outputs": []
    },
    {
      "cell_type": "code",
      "metadata": {
        "id": "w3ekvHKs4FEo",
        "colab_type": "code",
        "colab": {}
      },
      "source": [
        "url='https://raw.githubusercontent.com/amansurkar/Deep-Learning/master/ANN/Churn_Modelling.csv'"
      ],
      "execution_count": 0,
      "outputs": []
    },
    {
      "cell_type": "code",
      "metadata": {
        "id": "6L62cU9H2PvQ",
        "colab_type": "code",
        "colab": {}
      },
      "source": [
        "data = pd.read_csv(url)"
      ],
      "execution_count": 0,
      "outputs": []
    },
    {
      "cell_type": "code",
      "metadata": {
        "id": "H7BKsh924QBv",
        "colab_type": "code",
        "outputId": "60cf7e33-5d24-49b5-ea1f-780e44e6c60a",
        "colab": {
          "base_uri": "https://localhost:8080/",
          "height": 111
        }
      },
      "source": [
        "data.head(2)"
      ],
      "execution_count": 64,
      "outputs": [
        {
          "output_type": "execute_result",
          "data": {
            "text/html": [
              "<div>\n",
              "<style scoped>\n",
              "    .dataframe tbody tr th:only-of-type {\n",
              "        vertical-align: middle;\n",
              "    }\n",
              "\n",
              "    .dataframe tbody tr th {\n",
              "        vertical-align: top;\n",
              "    }\n",
              "\n",
              "    .dataframe thead th {\n",
              "        text-align: right;\n",
              "    }\n",
              "</style>\n",
              "<table border=\"1\" class=\"dataframe\">\n",
              "  <thead>\n",
              "    <tr style=\"text-align: right;\">\n",
              "      <th></th>\n",
              "      <th>RowNumber</th>\n",
              "      <th>CustomerId</th>\n",
              "      <th>Surname</th>\n",
              "      <th>CreditScore</th>\n",
              "      <th>Geography</th>\n",
              "      <th>Gender</th>\n",
              "      <th>Age</th>\n",
              "      <th>Tenure</th>\n",
              "      <th>Balance</th>\n",
              "      <th>NumOfProducts</th>\n",
              "      <th>HasCrCard</th>\n",
              "      <th>IsActiveMember</th>\n",
              "      <th>EstimatedSalary</th>\n",
              "      <th>Exited</th>\n",
              "    </tr>\n",
              "  </thead>\n",
              "  <tbody>\n",
              "    <tr>\n",
              "      <th>0</th>\n",
              "      <td>1</td>\n",
              "      <td>15634602</td>\n",
              "      <td>Hargrave</td>\n",
              "      <td>619</td>\n",
              "      <td>France</td>\n",
              "      <td>Female</td>\n",
              "      <td>42</td>\n",
              "      <td>2</td>\n",
              "      <td>0.00</td>\n",
              "      <td>1</td>\n",
              "      <td>1</td>\n",
              "      <td>1</td>\n",
              "      <td>101348.88</td>\n",
              "      <td>1</td>\n",
              "    </tr>\n",
              "    <tr>\n",
              "      <th>1</th>\n",
              "      <td>2</td>\n",
              "      <td>15647311</td>\n",
              "      <td>Hill</td>\n",
              "      <td>608</td>\n",
              "      <td>Spain</td>\n",
              "      <td>Female</td>\n",
              "      <td>41</td>\n",
              "      <td>1</td>\n",
              "      <td>83807.86</td>\n",
              "      <td>1</td>\n",
              "      <td>0</td>\n",
              "      <td>1</td>\n",
              "      <td>112542.58</td>\n",
              "      <td>0</td>\n",
              "    </tr>\n",
              "  </tbody>\n",
              "</table>\n",
              "</div>"
            ],
            "text/plain": [
              "   RowNumber  CustomerId   Surname  ...  IsActiveMember EstimatedSalary Exited\n",
              "0          1    15634602  Hargrave  ...               1       101348.88      1\n",
              "1          2    15647311      Hill  ...               1       112542.58      0\n",
              "\n",
              "[2 rows x 14 columns]"
            ]
          },
          "metadata": {
            "tags": []
          },
          "execution_count": 64
        }
      ]
    },
    {
      "cell_type": "code",
      "metadata": {
        "id": "RPX2w4ihynHK",
        "colab_type": "code",
        "colab": {}
      },
      "source": [
        "X=data.iloc[:, 3:13].values"
      ],
      "execution_count": 0,
      "outputs": []
    },
    {
      "cell_type": "code",
      "metadata": {
        "id": "oJ4GbusJy0Dv",
        "colab_type": "code",
        "outputId": "1bd3a2b6-ce74-4766-ca2c-9adf5a427a08",
        "colab": {
          "base_uri": "https://localhost:8080/",
          "height": 163
        }
      },
      "source": [
        "X.head(1)"
      ],
      "execution_count": 24,
      "outputs": [
        {
          "output_type": "error",
          "ename": "AttributeError",
          "evalue": "ignored",
          "traceback": [
            "\u001b[0;31m---------------------------------------------------------------------------\u001b[0m",
            "\u001b[0;31mAttributeError\u001b[0m                            Traceback (most recent call last)",
            "\u001b[0;32m<ipython-input-24-acfe93503e98>\u001b[0m in \u001b[0;36m<module>\u001b[0;34m()\u001b[0m\n\u001b[0;32m----> 1\u001b[0;31m \u001b[0mX\u001b[0m\u001b[0;34m.\u001b[0m\u001b[0mhead\u001b[0m\u001b[0;34m(\u001b[0m\u001b[0;36m1\u001b[0m\u001b[0;34m)\u001b[0m\u001b[0;34m\u001b[0m\u001b[0;34m\u001b[0m\u001b[0m\n\u001b[0m",
            "\u001b[0;31mAttributeError\u001b[0m: 'numpy.ndarray' object has no attribute 'head'"
          ]
        }
      ]
    },
    {
      "cell_type": "code",
      "metadata": {
        "id": "kMS9RoJ0y09a",
        "colab_type": "code",
        "colab": {}
      },
      "source": [
        "y=data.iloc[:, 13].values"
      ],
      "execution_count": 0,
      "outputs": []
    },
    {
      "cell_type": "code",
      "metadata": {
        "id": "y7jjaBWKy7GT",
        "colab_type": "code",
        "outputId": "47585ad6-09d3-404e-b9ff-9f61899b82c9",
        "colab": {
          "base_uri": "https://localhost:8080/",
          "height": 163
        }
      },
      "source": [
        "y.head(2)"
      ],
      "execution_count": 25,
      "outputs": [
        {
          "output_type": "error",
          "ename": "AttributeError",
          "evalue": "ignored",
          "traceback": [
            "\u001b[0;31m---------------------------------------------------------------------------\u001b[0m",
            "\u001b[0;31mAttributeError\u001b[0m                            Traceback (most recent call last)",
            "\u001b[0;32m<ipython-input-25-e3dc442bd82e>\u001b[0m in \u001b[0;36m<module>\u001b[0;34m()\u001b[0m\n\u001b[0;32m----> 1\u001b[0;31m \u001b[0my\u001b[0m\u001b[0;34m.\u001b[0m\u001b[0mhead\u001b[0m\u001b[0;34m(\u001b[0m\u001b[0;36m2\u001b[0m\u001b[0;34m)\u001b[0m\u001b[0;34m\u001b[0m\u001b[0;34m\u001b[0m\u001b[0m\n\u001b[0m",
            "\u001b[0;31mAttributeError\u001b[0m: 'numpy.ndarray' object has no attribute 'head'"
          ]
        }
      ]
    },
    {
      "cell_type": "code",
      "metadata": {
        "id": "2IWelASrO1kn",
        "colab_type": "code",
        "colab": {
          "base_uri": "https://localhost:8080/",
          "height": 136
        },
        "outputId": "9921bb87-e868-4911-fe58-46a407e3ce32"
      },
      "source": [
        "X"
      ],
      "execution_count": 26,
      "outputs": [
        {
          "output_type": "execute_result",
          "data": {
            "text/plain": [
              "array([[619, 'France', 'Female', ..., 1, 1, 101348.88],\n",
              "       [608, 'Spain', 'Female', ..., 0, 1, 112542.58],\n",
              "       [502, 'France', 'Female', ..., 1, 0, 113931.57],\n",
              "       ...,\n",
              "       [709, 'France', 'Female', ..., 0, 1, 42085.58],\n",
              "       [772, 'Germany', 'Male', ..., 1, 0, 92888.52],\n",
              "       [792, 'France', 'Female', ..., 1, 0, 38190.78]], dtype=object)"
            ]
          },
          "metadata": {
            "tags": []
          },
          "execution_count": 26
        }
      ]
    },
    {
      "cell_type": "code",
      "metadata": {
        "id": "ukHhIa4Fy79s",
        "colab_type": "code",
        "colab": {}
      },
      "source": [
        "from sklearn.preprocessing import LabelEncoder, OneHotEncoder"
      ],
      "execution_count": 0,
      "outputs": []
    },
    {
      "cell_type": "code",
      "metadata": {
        "id": "hEYL8pCKzPqy",
        "colab_type": "code",
        "colab": {}
      },
      "source": [
        "label_1=LabelEncoder()"
      ],
      "execution_count": 0,
      "outputs": []
    },
    {
      "cell_type": "code",
      "metadata": {
        "id": "LD-Iwip0zVxg",
        "colab_type": "code",
        "colab": {}
      },
      "source": [
        "X[:, 1]=label_1.fit_transform(X[:,1])"
      ],
      "execution_count": 0,
      "outputs": []
    },
    {
      "cell_type": "code",
      "metadata": {
        "id": "IAxJQHs_zhyB",
        "colab_type": "code",
        "outputId": "05fd64a9-b9d8-4038-9d00-aa3aea489ec3",
        "colab": {
          "base_uri": "https://localhost:8080/",
          "height": 136
        }
      },
      "source": [
        "X"
      ],
      "execution_count": 31,
      "outputs": [
        {
          "output_type": "execute_result",
          "data": {
            "text/plain": [
              "array([[619, 0, 'Female', ..., 1, 1, 101348.88],\n",
              "       [608, 2, 'Female', ..., 0, 1, 112542.58],\n",
              "       [502, 0, 'Female', ..., 1, 0, 113931.57],\n",
              "       ...,\n",
              "       [709, 0, 'Female', ..., 0, 1, 42085.58],\n",
              "       [772, 1, 'Male', ..., 1, 0, 92888.52],\n",
              "       [792, 0, 'Female', ..., 1, 0, 38190.78]], dtype=object)"
            ]
          },
          "metadata": {
            "tags": []
          },
          "execution_count": 31
        }
      ]
    },
    {
      "cell_type": "code",
      "metadata": {
        "id": "OIzJYPia1XMe",
        "colab_type": "code",
        "colab": {}
      },
      "source": [
        "label_2=LabelEncoder()"
      ],
      "execution_count": 0,
      "outputs": []
    },
    {
      "cell_type": "code",
      "metadata": {
        "id": "tSZj2JJQzirV",
        "colab_type": "code",
        "colab": {}
      },
      "source": [
        "X[:,2]=label_2.fit_transform(X[:, 2])"
      ],
      "execution_count": 0,
      "outputs": []
    },
    {
      "cell_type": "code",
      "metadata": {
        "id": "06t2YDQMzynY",
        "colab_type": "code",
        "outputId": "ed91533c-f1ef-46b4-e683-64f5fcd853f4",
        "colab": {
          "base_uri": "https://localhost:8080/",
          "height": 136
        }
      },
      "source": [
        "X"
      ],
      "execution_count": 34,
      "outputs": [
        {
          "output_type": "execute_result",
          "data": {
            "text/plain": [
              "array([[619, 0, 0, ..., 1, 1, 101348.88],\n",
              "       [608, 2, 0, ..., 0, 1, 112542.58],\n",
              "       [502, 0, 0, ..., 1, 0, 113931.57],\n",
              "       ...,\n",
              "       [709, 0, 0, ..., 0, 1, 42085.58],\n",
              "       [772, 1, 1, ..., 1, 0, 92888.52],\n",
              "       [792, 0, 0, ..., 1, 0, 38190.78]], dtype=object)"
            ]
          },
          "metadata": {
            "tags": []
          },
          "execution_count": 34
        }
      ]
    },
    {
      "cell_type": "code",
      "metadata": {
        "id": "JjoS8H7P4J3D",
        "colab_type": "code",
        "colab": {}
      },
      "source": [
        "from sklearn.compose import ColumnTransformer"
      ],
      "execution_count": 0,
      "outputs": []
    },
    {
      "cell_type": "code",
      "metadata": {
        "id": "-CVpT8TWH_P_",
        "colab_type": "code",
        "colab": {}
      },
      "source": [
        "ct = ColumnTransformer([(\"Geography\", OneHotEncoder(), [1])], remainder='passthrough')"
      ],
      "execution_count": 0,
      "outputs": []
    },
    {
      "cell_type": "code",
      "metadata": {
        "id": "py6Ldjp9IqXT",
        "colab_type": "code",
        "colab": {}
      },
      "source": [
        "X=ct.fit_transform(X)"
      ],
      "execution_count": 0,
      "outputs": []
    },
    {
      "cell_type": "code",
      "metadata": {
        "id": "Mu7i2bu_JP1l",
        "colab_type": "code",
        "colab": {}
      },
      "source": [
        "X=X[:,1:]"
      ],
      "execution_count": 0,
      "outputs": []
    },
    {
      "cell_type": "code",
      "metadata": {
        "id": "t-wnMLzMKZdA",
        "colab_type": "code",
        "colab": {
          "base_uri": "https://localhost:8080/",
          "height": 136
        },
        "outputId": "cc83aa53-f1b9-44c0-f566-78e815899497"
      },
      "source": [
        "X "
      ],
      "execution_count": 39,
      "outputs": [
        {
          "output_type": "execute_result",
          "data": {
            "text/plain": [
              "array([[0.0, 0.0, 619, ..., 1, 1, 101348.88],\n",
              "       [0.0, 1.0, 608, ..., 0, 1, 112542.58],\n",
              "       [0.0, 0.0, 502, ..., 1, 0, 113931.57],\n",
              "       ...,\n",
              "       [0.0, 0.0, 709, ..., 0, 1, 42085.58],\n",
              "       [1.0, 0.0, 772, ..., 1, 0, 92888.52],\n",
              "       [0.0, 0.0, 792, ..., 1, 0, 38190.78]], dtype=object)"
            ]
          },
          "metadata": {
            "tags": []
          },
          "execution_count": 39
        }
      ]
    },
    {
      "cell_type": "code",
      "metadata": {
        "id": "qz6RV-ZII4fn",
        "colab_type": "code",
        "colab": {
          "base_uri": "https://localhost:8080/",
          "height": 34
        },
        "outputId": "534215d4-28a3-4f8a-b2b7-974ee335a30b"
      },
      "source": [
        "X.shape"
      ],
      "execution_count": 40,
      "outputs": [
        {
          "output_type": "execute_result",
          "data": {
            "text/plain": [
              "(10000, 11)"
            ]
          },
          "metadata": {
            "tags": []
          },
          "execution_count": 40
        }
      ]
    },
    {
      "cell_type": "code",
      "metadata": {
        "id": "q1QmHmne0Ekh",
        "colab_type": "code",
        "colab": {}
      },
      "source": [
        "from sklearn.model_selection import train_test_split"
      ],
      "execution_count": 0,
      "outputs": []
    },
    {
      "cell_type": "code",
      "metadata": {
        "id": "6NaMLUyg118t",
        "colab_type": "code",
        "colab": {}
      },
      "source": [
        "X_train, X_test, y_train, y_test = train_test_split(X,y, test_size=0.2, random_state=0)"
      ],
      "execution_count": 0,
      "outputs": []
    },
    {
      "cell_type": "code",
      "metadata": {
        "id": "Lpr-7IvK3fDf",
        "colab_type": "code",
        "colab": {}
      },
      "source": [
        "from sklearn.preprocessing import StandardScaler"
      ],
      "execution_count": 0,
      "outputs": []
    },
    {
      "cell_type": "code",
      "metadata": {
        "id": "wR_iTDY63hwX",
        "colab_type": "code",
        "colab": {}
      },
      "source": [
        "scaler=StandardScaler()"
      ],
      "execution_count": 0,
      "outputs": []
    },
    {
      "cell_type": "code",
      "metadata": {
        "id": "lrrxdBD83jN6",
        "colab_type": "code",
        "colab": {}
      },
      "source": [
        "X_train=scaler.fit_transform(X_train)"
      ],
      "execution_count": 0,
      "outputs": []
    },
    {
      "cell_type": "code",
      "metadata": {
        "id": "QfGejVsM3k4V",
        "colab_type": "code",
        "colab": {}
      },
      "source": [
        "X_test=scaler.fit_transform(X_test)"
      ],
      "execution_count": 0,
      "outputs": []
    },
    {
      "cell_type": "code",
      "metadata": {
        "id": "FtRGPYDq3mgp",
        "colab_type": "code",
        "outputId": "15d70a11-63e1-4e1e-acf0-7e3ff8df2f16",
        "colab": {
          "base_uri": "https://localhost:8080/",
          "height": 80
        }
      },
      "source": [
        "import keras"
      ],
      "execution_count": 47,
      "outputs": [
        {
          "output_type": "stream",
          "text": [
            "Using TensorFlow backend.\n"
          ],
          "name": "stderr"
        },
        {
          "output_type": "display_data",
          "data": {
            "text/html": [
              "<p style=\"color: red;\">\n",
              "The default version of TensorFlow in Colab will soon switch to TensorFlow 2.x.<br>\n",
              "We recommend you <a href=\"https://www.tensorflow.org/guide/migrate\" target=\"_blank\">upgrade</a> now \n",
              "or ensure your notebook will continue to use TensorFlow 1.x via the <code>%tensorflow_version 1.x</code> magic:\n",
              "<a href=\"https://colab.research.google.com/notebooks/tensorflow_version.ipynb\" target=\"_blank\">more info</a>.</p>\n"
            ],
            "text/plain": [
              "<IPython.core.display.HTML object>"
            ]
          },
          "metadata": {
            "tags": []
          }
        }
      ]
    },
    {
      "cell_type": "code",
      "metadata": {
        "id": "xTUiJ-fo3oFR",
        "colab_type": "code",
        "colab": {}
      },
      "source": [
        "from keras.models import Sequential"
      ],
      "execution_count": 0,
      "outputs": []
    },
    {
      "cell_type": "code",
      "metadata": {
        "id": "IH_wmgYh3ppI",
        "colab_type": "code",
        "colab": {}
      },
      "source": [
        "from keras.layers import Dense"
      ],
      "execution_count": 0,
      "outputs": []
    },
    {
      "cell_type": "code",
      "metadata": {
        "id": "EEhDbP-A3rMp",
        "colab_type": "code",
        "outputId": "e9db63f8-2af1-4d82-aeed-d234efde4dce",
        "colab": {
          "base_uri": "https://localhost:8080/",
          "height": 71
        }
      },
      "source": [
        "classifier=Sequential()"
      ],
      "execution_count": 50,
      "outputs": [
        {
          "output_type": "stream",
          "text": [
            "WARNING:tensorflow:From /usr/local/lib/python3.6/dist-packages/keras/backend/tensorflow_backend.py:66: The name tf.get_default_graph is deprecated. Please use tf.compat.v1.get_default_graph instead.\n",
            "\n"
          ],
          "name": "stdout"
        }
      ]
    },
    {
      "cell_type": "code",
      "metadata": {
        "id": "HIqObj_V3tIo",
        "colab_type": "code",
        "outputId": "a56459e8-2f0f-41a9-b828-ec1339bc0bd5",
        "colab": {
          "base_uri": "https://localhost:8080/",
          "height": 139
        }
      },
      "source": [
        "classifier.add(Dense(output_dim=6, init= 'uniform', activation='relu', input_dim=11))"
      ],
      "execution_count": 51,
      "outputs": [
        {
          "output_type": "stream",
          "text": [
            "WARNING:tensorflow:From /usr/local/lib/python3.6/dist-packages/keras/backend/tensorflow_backend.py:541: The name tf.placeholder is deprecated. Please use tf.compat.v1.placeholder instead.\n",
            "\n",
            "WARNING:tensorflow:From /usr/local/lib/python3.6/dist-packages/keras/backend/tensorflow_backend.py:4432: The name tf.random_uniform is deprecated. Please use tf.random.uniform instead.\n",
            "\n"
          ],
          "name": "stdout"
        },
        {
          "output_type": "stream",
          "text": [
            "/usr/local/lib/python3.6/dist-packages/ipykernel_launcher.py:1: UserWarning: Update your `Dense` call to the Keras 2 API: `Dense(activation=\"relu\", input_dim=11, units=6, kernel_initializer=\"uniform\")`\n",
            "  \"\"\"Entry point for launching an IPython kernel.\n"
          ],
          "name": "stderr"
        }
      ]
    },
    {
      "cell_type": "code",
      "metadata": {
        "id": "noIUqool3uq5",
        "colab_type": "code",
        "outputId": "ec8e2615-9f96-4c38-9720-1673cf86e59a",
        "colab": {
          "base_uri": "https://localhost:8080/",
          "height": 71
        }
      },
      "source": [
        "classifier.add(Dense(output_dim=6, init= 'uniform', activation='relu'))"
      ],
      "execution_count": 52,
      "outputs": [
        {
          "output_type": "stream",
          "text": [
            "/usr/local/lib/python3.6/dist-packages/ipykernel_launcher.py:1: UserWarning: Update your `Dense` call to the Keras 2 API: `Dense(activation=\"relu\", units=6, kernel_initializer=\"uniform\")`\n",
            "  \"\"\"Entry point for launching an IPython kernel.\n"
          ],
          "name": "stderr"
        }
      ]
    },
    {
      "cell_type": "code",
      "metadata": {
        "id": "xWFvboSm3xQs",
        "colab_type": "code",
        "outputId": "adf1e89e-89c2-492a-a8a6-1d4727f13a29",
        "colab": {
          "base_uri": "https://localhost:8080/",
          "height": 71
        }
      },
      "source": [
        "classifier.add(Dense(output_dim=1, init= 'uniform', activation='sigmoid'))"
      ],
      "execution_count": 53,
      "outputs": [
        {
          "output_type": "stream",
          "text": [
            "/usr/local/lib/python3.6/dist-packages/ipykernel_launcher.py:1: UserWarning: Update your `Dense` call to the Keras 2 API: `Dense(activation=\"sigmoid\", units=1, kernel_initializer=\"uniform\")`\n",
            "  \"\"\"Entry point for launching an IPython kernel.\n"
          ],
          "name": "stderr"
        }
      ]
    },
    {
      "cell_type": "code",
      "metadata": {
        "id": "7v3OqjWk3zje",
        "colab_type": "code",
        "outputId": "188f98c1-f65c-49d1-e09b-a0c14f044d3d",
        "colab": {
          "base_uri": "https://localhost:8080/",
          "height": 156
        }
      },
      "source": [
        "classifier.compile(optimizer='adam', loss='binary_crossentropy', metrics=['accuracy'])"
      ],
      "execution_count": 54,
      "outputs": [
        {
          "output_type": "stream",
          "text": [
            "WARNING:tensorflow:From /usr/local/lib/python3.6/dist-packages/keras/optimizers.py:793: The name tf.train.Optimizer is deprecated. Please use tf.compat.v1.train.Optimizer instead.\n",
            "\n",
            "WARNING:tensorflow:From /usr/local/lib/python3.6/dist-packages/keras/backend/tensorflow_backend.py:3657: The name tf.log is deprecated. Please use tf.math.log instead.\n",
            "\n",
            "WARNING:tensorflow:From /usr/local/lib/python3.6/dist-packages/tensorflow_core/python/ops/nn_impl.py:183: where (from tensorflow.python.ops.array_ops) is deprecated and will be removed in a future version.\n",
            "Instructions for updating:\n",
            "Use tf.where in 2.0, which has the same broadcast rule as np.where\n"
          ],
          "name": "stdout"
        }
      ]
    },
    {
      "cell_type": "code",
      "metadata": {
        "id": "RzVlZPbA31RA",
        "colab_type": "code",
        "outputId": "923d7ad7-d5f3-412d-f076-1c5811d3bfd0",
        "colab": {
          "base_uri": "https://localhost:8080/",
          "height": 1000
        }
      },
      "source": [
        "classifier.fit(X_train, y_train, batch_size=10, epochs=100)"
      ],
      "execution_count": 55,
      "outputs": [
        {
          "output_type": "stream",
          "text": [
            "WARNING:tensorflow:From /usr/local/lib/python3.6/dist-packages/keras/backend/tensorflow_backend.py:1033: The name tf.assign_add is deprecated. Please use tf.compat.v1.assign_add instead.\n",
            "\n",
            "WARNING:tensorflow:From /usr/local/lib/python3.6/dist-packages/keras/backend/tensorflow_backend.py:1020: The name tf.assign is deprecated. Please use tf.compat.v1.assign instead.\n",
            "\n",
            "WARNING:tensorflow:From /usr/local/lib/python3.6/dist-packages/keras/backend/tensorflow_backend.py:3005: The name tf.Session is deprecated. Please use tf.compat.v1.Session instead.\n",
            "\n",
            "Epoch 1/100\n",
            "WARNING:tensorflow:From /usr/local/lib/python3.6/dist-packages/keras/backend/tensorflow_backend.py:190: The name tf.get_default_session is deprecated. Please use tf.compat.v1.get_default_session instead.\n",
            "\n",
            "WARNING:tensorflow:From /usr/local/lib/python3.6/dist-packages/keras/backend/tensorflow_backend.py:197: The name tf.ConfigProto is deprecated. Please use tf.compat.v1.ConfigProto instead.\n",
            "\n",
            "WARNING:tensorflow:From /usr/local/lib/python3.6/dist-packages/keras/backend/tensorflow_backend.py:207: The name tf.global_variables is deprecated. Please use tf.compat.v1.global_variables instead.\n",
            "\n",
            "WARNING:tensorflow:From /usr/local/lib/python3.6/dist-packages/keras/backend/tensorflow_backend.py:216: The name tf.is_variable_initialized is deprecated. Please use tf.compat.v1.is_variable_initialized instead.\n",
            "\n",
            "WARNING:tensorflow:From /usr/local/lib/python3.6/dist-packages/keras/backend/tensorflow_backend.py:223: The name tf.variables_initializer is deprecated. Please use tf.compat.v1.variables_initializer instead.\n",
            "\n",
            "8000/8000 [==============================] - 1s 183us/step - loss: 0.4758 - acc: 0.7959\n",
            "Epoch 2/100\n",
            "8000/8000 [==============================] - 1s 113us/step - loss: 0.4265 - acc: 0.7960\n",
            "Epoch 3/100\n",
            "8000/8000 [==============================] - 1s 115us/step - loss: 0.4203 - acc: 0.8070\n",
            "Epoch 4/100\n",
            "8000/8000 [==============================] - 1s 118us/step - loss: 0.4172 - acc: 0.8254\n",
            "Epoch 5/100\n",
            "8000/8000 [==============================] - 1s 116us/step - loss: 0.4150 - acc: 0.8277\n",
            "Epoch 6/100\n",
            "8000/8000 [==============================] - 1s 119us/step - loss: 0.4137 - acc: 0.8321\n",
            "Epoch 7/100\n",
            "8000/8000 [==============================] - 1s 111us/step - loss: 0.4124 - acc: 0.8317\n",
            "Epoch 8/100\n",
            "8000/8000 [==============================] - 1s 112us/step - loss: 0.4111 - acc: 0.8321\n",
            "Epoch 9/100\n",
            "8000/8000 [==============================] - 1s 113us/step - loss: 0.4101 - acc: 0.8322\n",
            "Epoch 10/100\n",
            "8000/8000 [==============================] - 1s 114us/step - loss: 0.4089 - acc: 0.8319\n",
            "Epoch 11/100\n",
            "8000/8000 [==============================] - 1s 111us/step - loss: 0.4088 - acc: 0.8342\n",
            "Epoch 12/100\n",
            "8000/8000 [==============================] - 1s 115us/step - loss: 0.4079 - acc: 0.8344\n",
            "Epoch 13/100\n",
            "8000/8000 [==============================] - 1s 121us/step - loss: 0.4075 - acc: 0.8336\n",
            "Epoch 14/100\n",
            "8000/8000 [==============================] - 1s 125us/step - loss: 0.4068 - acc: 0.8349\n",
            "Epoch 15/100\n",
            "8000/8000 [==============================] - 1s 117us/step - loss: 0.4055 - acc: 0.8335\n",
            "Epoch 16/100\n",
            "8000/8000 [==============================] - 1s 130us/step - loss: 0.4060 - acc: 0.8350\n",
            "Epoch 17/100\n",
            "8000/8000 [==============================] - 1s 123us/step - loss: 0.4054 - acc: 0.8342\n",
            "Epoch 18/100\n",
            "8000/8000 [==============================] - 1s 111us/step - loss: 0.4050 - acc: 0.8366\n",
            "Epoch 19/100\n",
            "8000/8000 [==============================] - 1s 113us/step - loss: 0.4050 - acc: 0.8355\n",
            "Epoch 20/100\n",
            "8000/8000 [==============================] - 1s 116us/step - loss: 0.4044 - acc: 0.8345\n",
            "Epoch 21/100\n",
            "8000/8000 [==============================] - 1s 110us/step - loss: 0.4041 - acc: 0.8349\n",
            "Epoch 22/100\n",
            "8000/8000 [==============================] - 1s 111us/step - loss: 0.4040 - acc: 0.8357\n",
            "Epoch 23/100\n",
            "8000/8000 [==============================] - 1s 112us/step - loss: 0.4040 - acc: 0.8355\n",
            "Epoch 24/100\n",
            "8000/8000 [==============================] - 1s 115us/step - loss: 0.4037 - acc: 0.8352\n",
            "Epoch 25/100\n",
            "8000/8000 [==============================] - 1s 117us/step - loss: 0.4034 - acc: 0.8357\n",
            "Epoch 26/100\n",
            "8000/8000 [==============================] - 1s 111us/step - loss: 0.4032 - acc: 0.8364\n",
            "Epoch 27/100\n",
            "8000/8000 [==============================] - 1s 110us/step - loss: 0.4033 - acc: 0.8342\n",
            "Epoch 28/100\n",
            "8000/8000 [==============================] - 1s 109us/step - loss: 0.4021 - acc: 0.8355\n",
            "Epoch 29/100\n",
            "8000/8000 [==============================] - 1s 115us/step - loss: 0.4031 - acc: 0.8351\n",
            "Epoch 30/100\n",
            "8000/8000 [==============================] - 1s 113us/step - loss: 0.4025 - acc: 0.8357\n",
            "Epoch 31/100\n",
            "8000/8000 [==============================] - 1s 113us/step - loss: 0.4023 - acc: 0.8355\n",
            "Epoch 32/100\n",
            "8000/8000 [==============================] - 1s 118us/step - loss: 0.4025 - acc: 0.8359\n",
            "Epoch 33/100\n",
            "8000/8000 [==============================] - 1s 113us/step - loss: 0.4025 - acc: 0.8354\n",
            "Epoch 34/100\n",
            "8000/8000 [==============================] - 1s 118us/step - loss: 0.4019 - acc: 0.8367\n",
            "Epoch 35/100\n",
            "8000/8000 [==============================] - 1s 118us/step - loss: 0.4018 - acc: 0.8366\n",
            "Epoch 36/100\n",
            "8000/8000 [==============================] - 1s 113us/step - loss: 0.4014 - acc: 0.8370\n",
            "Epoch 37/100\n",
            "8000/8000 [==============================] - 1s 117us/step - loss: 0.4017 - acc: 0.8362\n",
            "Epoch 38/100\n",
            "8000/8000 [==============================] - 1s 116us/step - loss: 0.4020 - acc: 0.8350\n",
            "Epoch 39/100\n",
            "8000/8000 [==============================] - 1s 112us/step - loss: 0.4017 - acc: 0.8364\n",
            "Epoch 40/100\n",
            "8000/8000 [==============================] - 1s 126us/step - loss: 0.4017 - acc: 0.8372\n",
            "Epoch 41/100\n",
            "8000/8000 [==============================] - 1s 107us/step - loss: 0.4017 - acc: 0.8365\n",
            "Epoch 42/100\n",
            "8000/8000 [==============================] - 1s 111us/step - loss: 0.4021 - acc: 0.8357\n",
            "Epoch 43/100\n",
            "8000/8000 [==============================] - 1s 113us/step - loss: 0.4021 - acc: 0.8362\n",
            "Epoch 44/100\n",
            "8000/8000 [==============================] - 1s 113us/step - loss: 0.4018 - acc: 0.8355\n",
            "Epoch 45/100\n",
            "8000/8000 [==============================] - 1s 114us/step - loss: 0.4013 - acc: 0.8370\n",
            "Epoch 46/100\n",
            "8000/8000 [==============================] - 1s 112us/step - loss: 0.4016 - acc: 0.8341\n",
            "Epoch 47/100\n",
            "8000/8000 [==============================] - 1s 115us/step - loss: 0.4015 - acc: 0.8364\n",
            "Epoch 48/100\n",
            "8000/8000 [==============================] - 1s 113us/step - loss: 0.4010 - acc: 0.8344\n",
            "Epoch 49/100\n",
            "8000/8000 [==============================] - 1s 123us/step - loss: 0.4012 - acc: 0.8365\n",
            "Epoch 50/100\n",
            "8000/8000 [==============================] - 1s 114us/step - loss: 0.4011 - acc: 0.8362\n",
            "Epoch 51/100\n",
            "8000/8000 [==============================] - 1s 115us/step - loss: 0.4015 - acc: 0.8360\n",
            "Epoch 52/100\n",
            "8000/8000 [==============================] - 1s 110us/step - loss: 0.4006 - acc: 0.8350\n",
            "Epoch 53/100\n",
            "8000/8000 [==============================] - 1s 118us/step - loss: 0.4016 - acc: 0.8375\n",
            "Epoch 54/100\n",
            "8000/8000 [==============================] - 1s 117us/step - loss: 0.4012 - acc: 0.8355\n",
            "Epoch 55/100\n",
            "8000/8000 [==============================] - 1s 114us/step - loss: 0.4010 - acc: 0.8346\n",
            "Epoch 56/100\n",
            "8000/8000 [==============================] - 1s 117us/step - loss: 0.4010 - acc: 0.8362\n",
            "Epoch 57/100\n",
            "8000/8000 [==============================] - 1s 112us/step - loss: 0.4010 - acc: 0.8366\n",
            "Epoch 58/100\n",
            "8000/8000 [==============================] - 1s 133us/step - loss: 0.4012 - acc: 0.8364\n",
            "Epoch 59/100\n",
            "8000/8000 [==============================] - 1s 124us/step - loss: 0.4009 - acc: 0.8360\n",
            "Epoch 60/100\n",
            "8000/8000 [==============================] - 1s 123us/step - loss: 0.4006 - acc: 0.8359\n",
            "Epoch 61/100\n",
            "8000/8000 [==============================] - 1s 116us/step - loss: 0.4009 - acc: 0.8367\n",
            "Epoch 62/100\n",
            "8000/8000 [==============================] - 1s 116us/step - loss: 0.4014 - acc: 0.8369\n",
            "Epoch 63/100\n",
            "8000/8000 [==============================] - 1s 112us/step - loss: 0.4007 - acc: 0.8372\n",
            "Epoch 64/100\n",
            "8000/8000 [==============================] - 1s 112us/step - loss: 0.4012 - acc: 0.8375\n",
            "Epoch 65/100\n",
            "8000/8000 [==============================] - 1s 117us/step - loss: 0.4003 - acc: 0.8341\n",
            "Epoch 66/100\n",
            "8000/8000 [==============================] - 1s 114us/step - loss: 0.4009 - acc: 0.8370\n",
            "Epoch 67/100\n",
            "8000/8000 [==============================] - 1s 120us/step - loss: 0.4009 - acc: 0.8361\n",
            "Epoch 68/100\n",
            "8000/8000 [==============================] - 1s 132us/step - loss: 0.4013 - acc: 0.8349\n",
            "Epoch 69/100\n",
            "8000/8000 [==============================] - 1s 123us/step - loss: 0.4005 - acc: 0.8359\n",
            "Epoch 70/100\n",
            "8000/8000 [==============================] - 1s 112us/step - loss: 0.4011 - acc: 0.8367\n",
            "Epoch 71/100\n",
            "8000/8000 [==============================] - 1s 116us/step - loss: 0.4007 - acc: 0.8377\n",
            "Epoch 72/100\n",
            "8000/8000 [==============================] - 1s 113us/step - loss: 0.4007 - acc: 0.8361\n",
            "Epoch 73/100\n",
            "8000/8000 [==============================] - 1s 109us/step - loss: 0.4002 - acc: 0.8356\n",
            "Epoch 74/100\n",
            "8000/8000 [==============================] - 1s 117us/step - loss: 0.4007 - acc: 0.8361\n",
            "Epoch 75/100\n",
            "8000/8000 [==============================] - 1s 112us/step - loss: 0.4003 - acc: 0.8391\n",
            "Epoch 76/100\n",
            "8000/8000 [==============================] - 1s 111us/step - loss: 0.4002 - acc: 0.8374\n",
            "Epoch 77/100\n",
            "8000/8000 [==============================] - 1s 124us/step - loss: 0.4006 - acc: 0.8357\n",
            "Epoch 78/100\n",
            "8000/8000 [==============================] - 1s 119us/step - loss: 0.4001 - acc: 0.8357\n",
            "Epoch 79/100\n",
            "8000/8000 [==============================] - 1s 114us/step - loss: 0.4004 - acc: 0.8367\n",
            "Epoch 80/100\n",
            "8000/8000 [==============================] - 1s 113us/step - loss: 0.3997 - acc: 0.8362\n",
            "Epoch 81/100\n",
            "8000/8000 [==============================] - 1s 122us/step - loss: 0.4002 - acc: 0.8369\n",
            "Epoch 82/100\n",
            "8000/8000 [==============================] - 1s 123us/step - loss: 0.4004 - acc: 0.8364\n",
            "Epoch 83/100\n",
            "8000/8000 [==============================] - 1s 116us/step - loss: 0.4001 - acc: 0.8350\n",
            "Epoch 84/100\n",
            "8000/8000 [==============================] - 1s 117us/step - loss: 0.4005 - acc: 0.8349\n",
            "Epoch 85/100\n",
            "8000/8000 [==============================] - 1s 111us/step - loss: 0.4003 - acc: 0.8362\n",
            "Epoch 86/100\n",
            "8000/8000 [==============================] - 1s 121us/step - loss: 0.4000 - acc: 0.8364\n",
            "Epoch 87/100\n",
            "8000/8000 [==============================] - 1s 119us/step - loss: 0.4000 - acc: 0.8355\n",
            "Epoch 88/100\n",
            "8000/8000 [==============================] - 1s 123us/step - loss: 0.4003 - acc: 0.8361\n",
            "Epoch 89/100\n",
            "8000/8000 [==============================] - 1s 115us/step - loss: 0.3997 - acc: 0.8370\n",
            "Epoch 90/100\n",
            "8000/8000 [==============================] - 1s 116us/step - loss: 0.4002 - acc: 0.8340\n",
            "Epoch 91/100\n",
            "8000/8000 [==============================] - 1s 113us/step - loss: 0.4002 - acc: 0.8369\n",
            "Epoch 92/100\n",
            "8000/8000 [==============================] - 1s 112us/step - loss: 0.4003 - acc: 0.8356\n",
            "Epoch 93/100\n",
            "8000/8000 [==============================] - 1s 115us/step - loss: 0.3998 - acc: 0.8374\n",
            "Epoch 94/100\n",
            "8000/8000 [==============================] - 1s 125us/step - loss: 0.4001 - acc: 0.8355\n",
            "Epoch 95/100\n",
            "8000/8000 [==============================] - 1s 111us/step - loss: 0.4002 - acc: 0.8375\n",
            "Epoch 96/100\n",
            "8000/8000 [==============================] - 1s 112us/step - loss: 0.3997 - acc: 0.8364\n",
            "Epoch 97/100\n",
            "8000/8000 [==============================] - 1s 114us/step - loss: 0.3997 - acc: 0.8371\n",
            "Epoch 98/100\n",
            "8000/8000 [==============================] - 1s 112us/step - loss: 0.4001 - acc: 0.8364\n",
            "Epoch 99/100\n",
            "8000/8000 [==============================] - 1s 113us/step - loss: 0.4000 - acc: 0.8356\n",
            "Epoch 100/100\n",
            "8000/8000 [==============================] - 1s 117us/step - loss: 0.3998 - acc: 0.8359\n"
          ],
          "name": "stdout"
        },
        {
          "output_type": "execute_result",
          "data": {
            "text/plain": [
              "<keras.callbacks.History at 0x7f6b031c8588>"
            ]
          },
          "metadata": {
            "tags": []
          },
          "execution_count": 55
        }
      ]
    },
    {
      "cell_type": "code",
      "metadata": {
        "id": "_pLqHyDV33KQ",
        "colab_type": "code",
        "colab": {}
      },
      "source": [
        "y_pred=classifier.predict(X_test)"
      ],
      "execution_count": 0,
      "outputs": []
    },
    {
      "cell_type": "code",
      "metadata": {
        "id": "F45IY4AXSAj5",
        "colab_type": "code",
        "colab": {}
      },
      "source": [
        "y_pred= (y_pred>.5)"
      ],
      "execution_count": 0,
      "outputs": []
    },
    {
      "cell_type": "code",
      "metadata": {
        "id": "AavYJJC9SGfD",
        "colab_type": "code",
        "colab": {
          "base_uri": "https://localhost:8080/",
          "height": 136
        },
        "outputId": "d6946907-2555-4a4d-8dbe-64420f5237ac"
      },
      "source": [
        "y_pred"
      ],
      "execution_count": 58,
      "outputs": [
        {
          "output_type": "execute_result",
          "data": {
            "text/plain": [
              "array([[False],\n",
              "       [False],\n",
              "       [False],\n",
              "       ...,\n",
              "       [False],\n",
              "       [False],\n",
              "       [False]])"
            ]
          },
          "metadata": {
            "tags": []
          },
          "execution_count": 58
        }
      ]
    },
    {
      "cell_type": "code",
      "metadata": {
        "id": "ptjoAPEqSIh6",
        "colab_type": "code",
        "colab": {}
      },
      "source": [
        "from sklearn.metrics import confusion_matrix"
      ],
      "execution_count": 0,
      "outputs": []
    },
    {
      "cell_type": "code",
      "metadata": {
        "id": "k9Z9uzfzSZdJ",
        "colab_type": "code",
        "colab": {}
      },
      "source": [
        "conf=confusion_matrix(y_test, y_pred)"
      ],
      "execution_count": 0,
      "outputs": []
    },
    {
      "cell_type": "code",
      "metadata": {
        "id": "jKoDM67nSh2K",
        "colab_type": "code",
        "colab": {
          "base_uri": "https://localhost:8080/",
          "height": 51
        },
        "outputId": "dd1011ff-a702-4597-dc24-6a95f3181e47"
      },
      "source": [
        "conf"
      ],
      "execution_count": 61,
      "outputs": [
        {
          "output_type": "execute_result",
          "data": {
            "text/plain": [
              "array([[1551,   44],\n",
              "       [ 275,  130]])"
            ]
          },
          "metadata": {
            "tags": []
          },
          "execution_count": 61
        }
      ]
    },
    {
      "cell_type": "code",
      "metadata": {
        "id": "BJq9Vo1WSjBN",
        "colab_type": "code",
        "colab": {}
      },
      "source": [
        ""
      ],
      "execution_count": 0,
      "outputs": []
    }
  ]
}